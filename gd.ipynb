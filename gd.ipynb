{
 "cells": [
  {
   "cell_type": "markdown",
   "metadata": {
    "nbpresent": {
     "id": "3f8b4e41-176d-4e4e-ac95-29e4c6856f0e"
    }
   },
   "source": [
    "# Comparing SGD to GD\n",
    "We'll do some simple comparisons between SGD and GD. We will consider mostly convex problems, like classification and regression.\n",
    "Remember, that what we would like to minimize is a finite sum of losses\n",
    "$$\\min_{\\bf x} \\frac{1}{n} \\sum_{i=1}^n f_i({\\bf x}) $$\n",
    "The algorithmic iteration of SGD is\n",
    "$${\\bf x}_{k+1} = {\\bf x}_k -\\gamma_{SGD}\\cdot \\nabla f_{s_k} ({\\bf x}_k)$$\n",
    "That of Gradient Descent (GD) is given by\n",
    "$${\\bf x}_{k+1} = {\\bf x}_k -\\gamma_{GD}\\cdot \\frac{1}{n} \\sum_{i=1}^n \\nabla f_i({\\bf x})$$\n",
    "\n",
    "\n",
    "Let's try a simple linear regression problem, where we wnat to solve\n",
    "$$\\min_{\\bf w} \\frac{1}{n} \\sum_{i=1}^n ({\\bf x}_i^T{\\bf w}-y_i)^2$$"
   ]
  },
  {
   "cell_type": "markdown",
   "metadata": {},
   "source": [
    "# Example of train vs test error, in lin. regression"
   ]
  },
  {
   "cell_type": "code",
   "execution_count": 126,
   "metadata": {
    "collapsed": false,
    "nbpresent": {
     "id": "2e89c3c0-c47c-440f-af40-2cd1814aeaab"
    }
   },
   "outputs": [
    {
     "data": {
      "image/png": "[encoded data removed]",
      "text/plain": [
       "<matplotlib.figure.Figure at 0x107a88ad0>"
      ]
     },
     "metadata": {},
     "output_type": "display_data"
    }
   ],
   "source": [
    "import numpy as np; \n",
    "from scipy import linalg; \n",
    "import matplotlib.pyplot as plt\n",
    "import random\n",
    "\n",
    "%matplotlib inline\n",
    "\n",
    "# Parameters for sgd and gd on gaussian linear regression\n",
    "d = 10; \n",
    "n = 200; \n",
    "n_test = 100; \n",
    "X = np.mat(np.random.rand(n,d))\n",
    "w_opt = np.mat(np.random.rand(d,1))\n",
    "y = X * w_opt\n",
    "T = 4000;\n",
    "\n",
    "# Initial models for both sgd and gd are the same\n",
    "gd_w = np.mat(np.random.rand(d,1))\n",
    "sgd_w = gd_w\n",
    "\n",
    "# Test data\n",
    "X_test = np.mat(np.random.rand(n_test,d))\n",
    "y_test = X_test * w_opt\n",
    "\n",
    "gd_gamma = .001\n",
    "gd_train_loss = np.zeros(T)\n",
    "gd_test_loss = np.zeros(T)\n",
    "\n",
    "sgd_gamma = .05\n",
    "sgd_train_loss = np.zeros(T)\n",
    "sgd_test_loss = np.zeros(T)\n",
    "sgd_datapoint_order = list(range(0, n))\n",
    "\n",
    "for i in range(T):\n",
    "    \n",
    "    # Compute errors\n",
    "    gd_train_error = linalg.norm(X*gd_w-y)\n",
    "    gd_test_error = linalg.norm(X_test*gd_w-y_test)    \n",
    "    sgd_train_error = linalg.norm(X*sgd_w-y)\n",
    "    sgd_test_error = linalg.norm(X_test*sgd_w-y_test)\n",
    "    \n",
    "    #if i == 200:\n",
    "    #    break\n",
    "    \n",
    "    # Update train and test loss\n",
    "    gd_train_loss[i] = (gd_train_error**2)/n\n",
    "    gd_test_loss[i] = (gd_test_error**2)/(n_test)\n",
    "    sgd_train_loss[i] = (sgd_train_error**2)/n\n",
    "    sgd_test_loss[i] = (sgd_test_error**2)/(n_test)\n",
    "\n",
    "    # Update for GD\n",
    "    gd_w = gd_w - gd_gamma*2*(X.T*X*gd_w- X.T*y)\n",
    "\n",
    "    # Update for SGD. We shuffle the datapoint order, then compute updates iteratively.\n",
    "    random.shuffle(sgd_datapoint_order)\n",
    "    for datapoint_index in sgd_datapoint_order:\n",
    "        gradient_at_dp = (2 * (X[datapoint_index] * sgd_w - y[datapoint_index])) * X[datapoint_index]\n",
    "        sgd_w = sgd_w - sgd_gamma * gradient_at_dp.T\n",
    "    \n",
    "plt.semilogy(range(T), gd_train_loss, 'r-', label=\"gd train error\")\n",
    "plt.semilogy(range(T), gd_test_loss, '--r', label=\"gd test error\")\n",
    "plt.semilogy(range(T), sgd_train_loss, 'b-', label=\"sgd train error\")\n",
    "plt.semilogy(range(T), sgd_test_loss, '--b', label=\"sgd test error\")\n",
    "plt.legend(loc=\"upper right\")\n",
    "plt.show(); \n",
    "\n"
   ]
  }
 ],
 "metadata": {
  "anaconda-cloud": {},
  "kernelspec": {
   "display_name": "Python 2",
   "language": "python",
   "name": "python2"
  },
  "language_info": {
   "codemirror_mode": {
    "name": "ipython",
    "version": 2
   },
   "file_extension": ".py",
   "mimetype": "text/x-python",
   "name": "python",
   "nbconvert_exporter": "python",
   "pygments_lexer": "ipython2",
   "version": "2.7.9"
  },
  "nbpresent": {
   "slides": {
    "0bef0378-c775-4696-b0f4-b9e13f1170a4": {
     "id": "0bef0378-c775-4696-b0f4-b9e13f1170a4",
     "prev": "69a38bf6-a727-40ec-94a0-bf462b7658bd",
     "regions": {
      "7f4aebed-63c7-4070-be3d-23178d0e2913": {
       "attrs": {
        "height": 0.8,
        "width": 0.8,
        "x": 0.1,
        "y": 0.1
       },
       "content": {
        "cell": "8b982f23-f3b0-4c2b-8fcc-e9c22378e38a",
        "part": "whole"
       },
       "id": "7f4aebed-63c7-4070-be3d-23178d0e2913"
      }
     }
    },
    "69a38bf6-a727-40ec-94a0-bf462b7658bd": {
     "id": "69a38bf6-a727-40ec-94a0-bf462b7658bd",
     "prev": "fc0f94eb-70db-43b2-b602-c483c0fded73",
     "regions": {
      "fd9c10a5-5a8e-4f65-b164-c4460b51232d": {
       "attrs": {
        "height": 0.8,
        "width": 0.8,
        "x": 0.1,
        "y": 0.1
       },
       "content": {
        "cell": "2e89c3c0-c47c-440f-af40-2cd1814aeaab",
        "part": "whole"
       },
       "id": "fd9c10a5-5a8e-4f65-b164-c4460b51232d"
      }
     }
    },
    "fc0f94eb-70db-43b2-b602-c483c0fded73": {
     "id": "fc0f94eb-70db-43b2-b602-c483c0fded73",
     "prev": null,
     "regions": {
      "9343375d-d7cd-404b-97a7-54b924279fc1": {
       "attrs": {
        "height": 0.8,
        "width": 0.8,
        "x": 0.1,
        "y": 0.1
       },
       "content": {
        "cell": "3f8b4e41-176d-4e4e-ac95-29e4c6856f0e",
        "part": "whole"
       },
       "id": "9343375d-d7cd-404b-97a7-54b924279fc1"
      }
     }
    }
   },
   "themes": {
    "default": "2663ca52-3d34-49f3-9dd4-6a5f3873953e",
    "theme": {}
   }
  }
 },
 "nbformat": 4,
 "nbformat_minor": 0
}

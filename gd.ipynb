{
 "cells": [
  {
   "cell_type": "markdown",
   "metadata": {
    "nbpresent": {
     "id": "3f8b4e41-176d-4e4e-ac95-29e4c6856f0e"
    }
   },
   "source": [
    "# Comparing SGD to GD\n",
    "We'll do some simple comparisons between SGD and GD. We will consider mostly convex problems, like classification and regression.\n",
    "Remember, that what we would like to minimize is a finite sum of losses\n",
    "$$\\min_{\\bf x} \\frac{1}{n} \\sum_{i=1}^n f_i({\\bf x}) $$\n",
    "The algorithmic iteration of SGD is\n",
    "$${\\bf x}_{k+1} = {\\bf x}_k -\\gamma_{SGD}\\cdot \\nabla f_{s_k} ({\\bf x}_k)$$\n",
    "That of Gradient Descent (GD) is given by\n",
    "$${\\bf x}_{k+1} = {\\bf x}_k -\\gamma_{GD}\\cdot \\frac{1}{n} \\sum_{i=1}^n \\nabla f_i({\\bf x})$$"
   ]
  },
  {
   "cell_type": "code",
   "execution_count": 56,
   "metadata": {
    "collapsed": true
   },
   "outputs": [],
   "source": [
    "import numpy as np\n",
    "from scipy import linalg\n",
    "import matplotlib.pyplot as plt\n",
    "import random\n",
    "\n",
    "# SGD function\n",
    "# -------------------------------------------------------\n",
    "#\n",
    "# X - train dataset matrix\n",
    "# y - train label vector\n",
    "# X_test - test dataset matrix\n",
    "# y_test - test label vector\n",
    "# sgd_w - initial weights for model\n",
    "# gradient_at_datapoint(weights, datapoint) - function returning gradient at datapoint given weights\n",
    "# compute_loss(X, y, weights) - computes loss given X dataset, y labels and model weights\n",
    "# n_iters - number of iters to train sgd\n",
    "# sgd_gamma - sgd learning rate\n",
    "#\n",
    "# return - array of train losses and test losses\n",
    "def SGD(X, y, X_test, y_test, sgd_w, gradient_at_datapoint, compute_loss, n_iters=100, sgd_gamma=.001):\n",
    "    n, d = X.shape\n",
    "    test_losses, train_losses = [], []\n",
    "    sgd_datapoint_order = list(range(0, n))\n",
    "    for iteration in range(n_iters):\n",
    "        np.random.shuffle(sgd_datapoint_order)\n",
    "        train_loss, test_loss = compute_loss(X, y, sgd_w), compute_loss(X_test, y_test, sgd_w)\n",
    "        train_losses.append(train_loss)\n",
    "        test_losses.append(test_loss)\n",
    "        for datapoint_index in sgd_datapoint_order:\n",
    "            gradient_at_dp = gradient_at_datapoint(sgd_w, X[datapoint_index], y[datapoint_index])\n",
    "            sgd_w = sgd_w - sgd_gamma * gradient_at_dp.T\n",
    "    return train_losses, test_losses\n",
    "        \n",
    "# GD function\n",
    "# -------------------------------------------------------\n",
    "#\n",
    "# X - train dataset matrix\n",
    "# y - train label vector\n",
    "# X_test - test dataset matrix\n",
    "# y_test - test label vector\n",
    "# gd_w - initial weights for model\n",
    "# compute_gradient(X, y, weights) - function returning gradient given X, y, weights\n",
    "# compute_loss(X, y, weights) - computes loss given X dataset, y labels and model weights\n",
    "# n_iters - number of iters to train sgd\n",
    "# gd_gamma - sgd learning rate\n",
    "#\n",
    "# return - array of train losses and test losses\n",
    "def GD(X, y, X_test, y_test, gd_w, compute_gradient, compute_loss, n_iters=100, gd_gamma=.001):\n",
    "    n, d = X.shape\n",
    "    test_losses, train_losses = [], []\n",
    "    for iteration in range(n_iters):\n",
    "        train_loss, test_loss = compute_loss(X, y, gd_w), compute_loss(X_test, y_test, gd_w)\n",
    "        train_losses.append(train_loss)\n",
    "        test_losses.append(test_loss)\n",
    "        \n",
    "        gradient = compute_gradient(X, y, gd_w)\n",
    "        gd_w = gd_w - gd_gamma * gradient\n",
    "    return train_losses, test_losses\n",
    "        "
   ]
  },
  {
   "cell_type": "markdown",
   "metadata": {},
   "source": [
    "\n",
    "Let's try a simple linear regression problem, where we want to solve\n",
    "$$\\min_{\\bf w} \\frac{1}{n} \\sum_{i=1}^n ({\\bf x}_i^T{\\bf w}-y_i)^2$$\n",
    "\n",
    "# Example of train vs test error, in lin. regression"
   ]
  },
  {
   "cell_type": "code",
   "execution_count": 37,
   "metadata": {
    "collapsed": false
   },
   "outputs": [
    {
     "name": "stdout",
     "output_type": "stream",
     "text": [
      "(2000, 1)\n"
     ]
    },
    {
     "data": {
      "image/png": "[encoded data removed]",
      "text/plain": [
       "<matplotlib.figure.Figure at 0x1157f3c10>"
      ]
     },
     "metadata": {},
     "output_type": "display_data"
    }
   ],
   "source": [
    "%matplotlib inline\n",
    "np.random.seed(0)\n",
    "\n",
    "# Parameters for sgd and gd on gaussian linear regression\n",
    "d = 20; \n",
    "n = 2000; \n",
    "n_test = 100; \n",
    "X = np.mat(np.random.rand(n,d))\n",
    "w_opt = np.mat(np.random.rand(d,1))\n",
    "y = X * w_opt\n",
    "T = 20;\n",
    "\n",
    "# Initial models for both sgd and gd are the same\n",
    "gd_w = np.mat(np.random.rand(d,1))\n",
    "sgd_w = gd_w\n",
    "\n",
    "# Test data\n",
    "X_test = np.mat(np.random.rand(n_test,d))\n",
    "y_test = X_test * w_opt\n",
    "\n",
    "def ComputeLoss(X, y, w):\n",
    "    return (linalg.norm(X*w-y)**2) / X.shape[0]\n",
    "\n",
    "def GradientAtDatapoint(weights, datapoint_weights, datapoint_label):\n",
    "    return (2 * (datapoint_weights * weights - datapoint_label)) * datapoint_weights\n",
    "\n",
    "def ComputeGradient(X, y, w):\n",
    "    return 2*(X.T*X*w - X.T*y)\n",
    "\n",
    "sgd_train_losses, sgd_test_losses = SGD(X, y, X_test, y_test, sgd_w, \n",
    "                                        GradientAtDatapoint, ComputeLoss, \n",
    "                                        n_iters=T, sgd_gamma=.0005)\n",
    "gd_train_losses, gd_test_losses = GD(X, y, X_test, y_test, gd_w, \n",
    "                                     ComputeGradient, ComputeLoss, \n",
    "                                     n_iters=T, gd_gamma=.00009)\n",
    "\n",
    "plt.semilogy(range(T), sgd_train_losses, 'r-', label=\"sgd train error\")\n",
    "plt.semilogy(range(T), sgd_test_losses, '--r', label=\"sgd test error\")\n",
    "plt.semilogy(range(T), gd_train_losses, 'b-', label=\"gd train error\")\n",
    "plt.semilogy(range(T), gd_test_losses, '--b', label=\"gd test error\")\n",
    "plt.legend(loc=\"upper right\")\n",
    "plt.show(); "
   ]
  },
  {
   "cell_type": "markdown",
   "metadata": {},
   "source": [
    "# Logistic regression\n",
    "For logistic regression we are trying to minimize\n",
    "$$\\min_{\\bf x} \\frac{1}{n} \\sum_{i=1}^n f_i(x) $$\n",
    "where \n",
    "$$\n",
    "f_i(x) = -y^{(i)}log(h_{\\theta}(x^{(i)})) - (1-y^{(i)})log(1-h_{\\theta}(x^{(i)}))\n",
    "$$\n",
    "and\n",
    "$$\n",
    "h_{\\theta}(x) = \\frac{1}{1+e^{-\\theta^{T}x}}\n",
    "$$"
   ]
  },
  {
   "cell_type": "code",
   "execution_count": null,
   "metadata": {
    "collapsed": false
   },
   "outputs": [],
   "source": [
    "%matplotlib inline\n",
    "np.random.seed(0)\n",
    "\n",
    "def GenerateGaussianLogisticRegressionDataset(n, d, n_test):\n",
    "    X = np.mat(np.random.rand(n,d))\n",
    "    w_opt = np.mat(np.random.rand(d,1)) - .5\n",
    "    y =  np.mat([[0] if x.dot(w_opt) <= [0] else 1 for x in X])\n",
    "    X_test = np.mat(np.random.rand(n_test,d))\n",
    "    y_test = np.mat([[0] if x.dot(w_opt) <= [0] else 1 for x in X_test])\n",
    "    return X, y, X_test, y_test\n",
    "\n",
    "# Parameters for sgd and gd on gaussian logistic regression\n",
    "d = 20; \n",
    "n = 2000; \n",
    "n_test = 100; \n",
    "X, y, X_test, y_test = GenerateGaussianLogisticRegressionDataset(n, d, n_test)\n",
    "\n",
    "# Initial models for both sgd and gd are the same\n",
    "gd_w = np.mat(np.random.rand(d,1))\n",
    "sgd_w = gd_w\n",
    "\n",
    "def hyp(theta, x):\n",
    "    return float(1 / (1 + np.exp(-x.dot(theta))))\n",
    "\n",
    "def ComputeLoss(X, y, theta):\n",
    "    loss = 0\n",
    "    for i, x in enumerate(X):\n",
    "        loss += -y[i] * np.log(hyp(theta, x)) - (1-y[i]) * np.log((1 - hyp(theta, x)))\n",
    "    return float(loss / X.shape[0])\n",
    "\n",
    "def GradientAtDatapoint(weights, datapoint_weights, datapoint_label):\n",
    "    h = hyp(weights, datapoint_weights)\n",
    "    sgd_grad = datapoint_weights.T * (h-datapoint_label)\n",
    "    return sgd_grad.T\n",
    "\n",
    "def ComputeGradient(X, y, w):\n",
    "    h = np.matrix([[hyp(w, x)] for x in X])\n",
    "    gd_grad = (X.T * (h-y))/n\n",
    "    return gd_grad\n",
    "\n",
    "sgd_train_losses, sgd_test_losses = SGD(X, y, X_test, y_test, sgd_w, \n",
    "                                        GradientAtDatapoint, ComputeLoss, \n",
    "                                        n_iters=T, sgd_gamma=.005)\n",
    "gd_train_losses, gd_test_losses = GD(X, y, X_test, y_test, gd_w, \n",
    "                                     ComputeGradient, ComputeLoss, \n",
    "                                     n_iters=T, gd_gamma=.9)\n",
    "\n",
    "plt.semilogy(range(T), sgd_train_losses, 'r-', label=\"sgd train error\")\n",
    "plt.semilogy(range(T), sgd_test_losses, '--r', label=\"sgd test error\")\n",
    "plt.semilogy(range(T), gd_train_losses, 'b-', label=\"gd train error\")\n",
    "plt.semilogy(range(T), gd_test_losses, '--b', label=\"gd test error\")\n",
    "plt.legend(loc=\"upper right\")\n",
    "plt.show(); "
   ]
  }
 ],
 "metadata": {
  "anaconda-cloud": {},
  "kernelspec": {
   "display_name": "Python 2",
   "language": "python",
   "name": "python2"
  },
  "language_info": {
   "codemirror_mode": {
    "name": "ipython",
    "version": 2
   },
   "file_extension": ".py",
   "mimetype": "text/x-python",
   "name": "python",
   "nbconvert_exporter": "python",
   "pygments_lexer": "ipython2",
   "version": "2.7.9"
  },
  "nbpresent": {
   "slides": {
    "0bef0378-c775-4696-b0f4-b9e13f1170a4": {
     "id": "0bef0378-c775-4696-b0f4-b9e13f1170a4",
     "prev": "69a38bf6-a727-40ec-94a0-bf462b7658bd",
     "regions": {
      "7f4aebed-63c7-4070-be3d-23178d0e2913": {
       "attrs": {
        "height": 0.8,
        "width": 0.8,
        "x": 0.1,
        "y": 0.1
       },
       "content": {
        "cell": "8b982f23-f3b0-4c2b-8fcc-e9c22378e38a",
        "part": "whole"
       },
       "id": "7f4aebed-63c7-4070-be3d-23178d0e2913"
      }
     }
    },
    "69a38bf6-a727-40ec-94a0-bf462b7658bd": {
     "id": "69a38bf6-a727-40ec-94a0-bf462b7658bd",
     "prev": "fc0f94eb-70db-43b2-b602-c483c0fded73",
     "regions": {
      "fd9c10a5-5a8e-4f65-b164-c4460b51232d": {
       "attrs": {
        "height": 0.8,
        "width": 0.8,
        "x": 0.1,
        "y": 0.1
       },
       "content": {
        "cell": "2e89c3c0-c47c-440f-af40-2cd1814aeaab",
        "part": "whole"
       },
       "id": "fd9c10a5-5a8e-4f65-b164-c4460b51232d"
      }
     }
    },
    "fc0f94eb-70db-43b2-b602-c483c0fded73": {
     "id": "fc0f94eb-70db-43b2-b602-c483c0fded73",
     "prev": null,
     "regions": {
      "9343375d-d7cd-404b-97a7-54b924279fc1": {
       "attrs": {
        "height": 0.8,
        "width": 0.8,
        "x": 0.1,
        "y": 0.1
       },
       "content": {
        "cell": "3f8b4e41-176d-4e4e-ac95-29e4c6856f0e",
        "part": "whole"
       },
       "id": "9343375d-d7cd-404b-97a7-54b924279fc1"
      }
     }
    }
   },
   "themes": {
    "default": "2663ca52-3d34-49f3-9dd4-6a5f3873953e",
    "theme": {}
   }
  }
 },
 "nbformat": 4,
 "nbformat_minor": 0
}

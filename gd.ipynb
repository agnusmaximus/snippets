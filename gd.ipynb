{
 "cells": [
  {
   "cell_type": "markdown",
   "metadata": {
    "nbpresent": {
     "id": "3f8b4e41-176d-4e4e-ac95-29e4c6856f0e"
    }
   },
   "source": [
    "# Comparing SGD to GD\n",
    "We'll do some simple comparisons between SGD and GD. We will consider mostly convex problems, like classification and regression.\n",
    "Remember, that what we would like to minimize is a finite sum of losses\n",
    "$$\\min_{\\bf x} \\frac{1}{n} \\sum_{i=1}^n f_i({\\bf x}) $$\n",
    "The algorithmic iteration of SGD is\n",
    "$${\\bf x}_{k+1} = {\\bf x}_k -\\gamma_{SGD}\\cdot \\nabla f_{s_k} ({\\bf x}_k)$$\n",
    "That of Gradient Descent (GD) is given by\n",
    "$${\\bf x}_{k+1} = {\\bf x}_k -\\gamma_{GD}\\cdot \\frac{1}{n} \\sum_{i=1}^n \\nabla f_i({\\bf x})$$"
   ]
  },
  {
   "cell_type": "code",
   "execution_count": 6,
   "metadata": {
    "collapsed": true
   },
   "outputs": [],
   "source": [
    "import numpy as np\n",
    "from scipy import linalg\n",
    "import matplotlib.pyplot as plt\n",
    "import random\n",
    "\n",
    "# SGD function\n",
    "# -------------------------------------------------------\n",
    "#\n",
    "# X - train dataset matrix\n",
    "# y - train label vector\n",
    "# X_test - test dataset matrix\n",
    "# y_test - test label vector\n",
    "# sgd_w - initial weights for model\n",
    "# gradient_at_datapoint(weights, datapoint) - function returning gradient at datapoint given weights\n",
    "# compute_loss(X, y, weights) - computes loss given X dataset, y labels and model weights\n",
    "# n_iters - number of iters to train sgd\n",
    "# sgd_gamma - sgd learning rate\n",
    "#\n",
    "# return - array of train losses and test losses\n",
    "def SGD(X, y, X_test, y_test, sgd_w, gradient_at_datapoint, compute_loss, n_iters=100, sgd_gamma=.001):\n",
    "    n, d = X.shape\n",
    "    test_losses, train_losses = [], []\n",
    "    sgd_datapoint_order = list(range(0, n))\n",
    "    for iteration in range(n_iters):\n",
    "        np.random.shuffle(sgd_datapoint_order)\n",
    "        train_loss, test_loss = compute_loss(X, y, sgd_w), compute_loss(X_test, y_test, sgd_w)\n",
    "        train_losses.append(train_loss)\n",
    "        test_losses.append(test_loss)\n",
    "        for datapoint_index in sgd_datapoint_order:\n",
    "            gradient_at_dp = gradient_at_datapoint(sgd_w, X[datapoint_index], y[datapoint_index])\n",
    "            sgd_w = sgd_w - sgd_gamma * gradient_at_dp.T\n",
    "    return train_losses, test_losses, sgd_w\n",
    "        \n",
    "# GD function\n",
    "# -------------------------------------------------------\n",
    "#\n",
    "# X - train dataset matrix\n",
    "# y - train label vector\n",
    "# X_test - test dataset matrix\n",
    "# y_test - test label vector\n",
    "# gd_w - initial weights for model\n",
    "# compute_gradient(X, y, weights) - function returning gradient given X, y, weights\n",
    "# compute_loss(X, y, weights) - computes loss given X dataset, y labels and model weights\n",
    "# n_iters - number of iters to train sgd\n",
    "# gd_gamma - sgd learning rate\n",
    "#\n",
    "# return - array of train losses and test losses\n",
    "def GD(X, y, X_test, y_test, gd_w, compute_gradient, compute_loss, n_iters=100, gd_gamma=.001):\n",
    "    n, d = X.shape\n",
    "    test_losses, train_losses = [], []\n",
    "    for iteration in range(n_iters):\n",
    "        train_loss, test_loss = compute_loss(X, y, gd_w), compute_loss(X_test, y_test, gd_w)\n",
    "        train_losses.append(train_loss)\n",
    "        test_losses.append(test_loss)\n",
    "        \n",
    "        gradient = compute_gradient(X, y, gd_w)\n",
    "        gd_w = gd_w - gd_gamma * gradient/X.shape[0]\n",
    "    return train_losses, test_losses, gd_w\n",
    "        "
   ]
  },
  {
   "cell_type": "markdown",
   "metadata": {},
   "source": [
    "\n",
    "Let's try a simple linear regression problem, where we want to solve\n",
    "$$\\min_{\\bf w} \\frac{1}{n} \\sum_{i=1}^n ({\\bf x}_i^T{\\bf w}-y_i)^2$$\n",
    "\n",
    "# Example of train vs test error, in lin. regression"
   ]
  },
  {
   "cell_type": "code",
   "execution_count": 2,
   "metadata": {
    "collapsed": false
   },
   "outputs": [
    {
     "data": {
      "image/png": "[encoded data removed]",
      "text/plain": [
       "<matplotlib.figure.Figure at 0x1159430d0>"
      ]
     },
     "metadata": {},
     "output_type": "display_data"
    }
   ],
   "source": [
    "%matplotlib inline\n",
    "np.random.seed(0)\n",
    "\n",
    "def GenerateGaussianLogisticRegressionDataset(n, d, n_test, sparsity=0):\n",
    "    X = np.mat(np.random.rand(n,d))\n",
    "    X_test = np.mat(np.random.rand(n_test,d))\n",
    "    w_opt = np.mat(np.random.rand(d,1))\n",
    "    \n",
    "    # Zero out some elements based on sparsity (approximate)\n",
    "    for i in range(n):\n",
    "        for j in range(d):\n",
    "            if random.uniform(0, 1) < sparsity:\n",
    "                X[i,j] = 0\n",
    "                \n",
    "    for i in range(n_test):\n",
    "        for j in range(d):\n",
    "            if random.uniform(0, 1) < sparsity:\n",
    "                X_test[i,j] = 0\n",
    "                \n",
    "    y_test = X_test * w_opt\n",
    "    y = X * w_opt\n",
    "    return X, y, X_test, y_test\n",
    "\n",
    "# Parameters for sgd and gd on gaussian linear regression\n",
    "d = 20; \n",
    "n = 2000; \n",
    "n_test = 100; \n",
    "X, y, X_test, y_test = GenerateGaussianLogisticRegressionDataset(n, d, n_test, sparsity=.8)\n",
    "T = 200\n",
    "\n",
    "# Initial models for both sgd and gd are the same\n",
    "gd_w = np.mat(np.random.rand(d,1))\n",
    "sgd_w = gd_w\n",
    "\n",
    "def ComputeLoss(X, y, w):\n",
    "    return (linalg.norm(X*w-y)**2) / X.shape[0]\n",
    "\n",
    "def GradientAtDatapoint(weights, datapoint_weights, datapoint_label):\n",
    "    return (2 * (datapoint_weights * weights - datapoint_label)) * datapoint_weights\n",
    "\n",
    "def ComputeGradient(X, y, w):\n",
    "    return 2*(X.T*X*w - X.T*y)\n",
    "\n",
    "sgd_train_losses, sgd_test_losses, sgd_w = SGD(X, y, X_test, y_test, sgd_w, \n",
    "                                        GradientAtDatapoint, ComputeLoss, \n",
    "                                        n_iters=T, sgd_gamma=.005)\n",
    "gd_train_losses, gd_test_losses, gd_w = GD(X, y, X_test, y_test, gd_w, \n",
    "                                     ComputeGradient, ComputeLoss, \n",
    "                                     n_iters=T, gd_gamma=.9)\n",
    "\n",
    "plt.semilogy(range(T), sgd_train_losses, 'r-', label=\"sgd train error\")\n",
    "plt.semilogy(range(T), sgd_test_losses, '--r', label=\"sgd test error\")\n",
    "plt.semilogy(range(T), gd_train_losses, 'b-', label=\"gd train error\")\n",
    "plt.semilogy(range(T), gd_test_losses, '--b', label=\"gd test error\")\n",
    "plt.legend(loc=\"upper right\")\n",
    "plt.show(); "
   ]
  },
  {
   "cell_type": "markdown",
   "metadata": {},
   "source": [
    "# Logistic regression\n",
    "For logistic regression we are trying to minimize\n",
    "$$\\min_{\\bf x} \\frac{1}{n} \\sum_{i=1}^n f_i(x) $$\n",
    "where \n",
    "$$\n",
    "f_i(x) = -y^{(i)}log(h_{\\theta}(x^{(i)})) - (1-y^{(i)})log(1-h_{\\theta}(x^{(i)}))\n",
    "$$\n",
    "and\n",
    "$$\n",
    "h_{\\theta}(x) = \\frac{1}{1+e^{-\\theta^{T}x}}\n",
    "$$"
   ]
  },
  {
   "cell_type": "code",
   "execution_count": 10,
   "metadata": {
    "collapsed": false
   },
   "outputs": [
    {
     "data": {
      "image/png": "[encoded data removed]",
      "text/plain": [
       "<matplotlib.figure.Figure at 0x134504f10>"
      ]
     },
     "metadata": {},
     "output_type": "display_data"
    }
   ],
   "source": [
    "%matplotlib inline\n",
    "np.random.seed(0)\n",
    "\n",
    "def GenerateGaussianLogisticRegressionDataset(n, d, n_test, sparsity=0):\n",
    "    X = np.mat(np.random.rand(n,d))\n",
    "    w_opt = np.mat(np.random.rand(d,1)) - .5\n",
    "    X_test = np.mat(np.random.rand(n_test,d))\n",
    "    \n",
    "    # Zero out some elements based on sparsity (approximate)\n",
    "    for i in range(n):\n",
    "        for j in range(d):\n",
    "            if random.uniform(0, 1) < sparsity:\n",
    "                X[i,j] = 0\n",
    "                \n",
    "    for i in range(n_test):\n",
    "        for j in range(d):\n",
    "            if random.uniform(0, 1) < sparsity:\n",
    "                X_test[i,j] = 0\n",
    "    \n",
    "    y = np.mat([[-1] if x.dot(w_opt) <= 0 else [1] for x in X])\n",
    "    y_test = np.mat([[-1] if x.dot(w_opt) <= 0 else [1] for x in X_test])\n",
    "    return X, y, X_test, y_test\n",
    "\n",
    "# Parameters for sgd and gd on gaussian logistic regression\n",
    "d = 20; \n",
    "n = 2000; \n",
    "n_test = 100; \n",
    "X, y, X_test, y_test = GenerateGaussianLogisticRegressionDataset(n, d, n_test, sparsity=.8)\n",
    "T = 10\n",
    "\n",
    "# Initial models for both sgd and gd are the same\n",
    "gd_w = np.mat(np.random.rand(d,1))\n",
    "sgd_w = gd_w\n",
    "\n",
    "def hyp(theta, x):\n",
    "    return float(x.dot(theta))\n",
    "\n",
    "def ComputeLossLogReg(X, y, theta):\n",
    "    loss = 0\n",
    "    for i, x in enumerate(X):\n",
    "        loss += np.log(1 + np.exp(-float(y[i]) * x.dot(theta)))\n",
    "    return float(loss / X.shape[0])\n",
    "\n",
    "def GradientAtDatapointLogReg(weights, datapoint_weights, datapoint_label):\n",
    "    cost = float(np.exp(-float(datapoint_label) * datapoint_weights.dot(weights)))\n",
    "    coefficient = float(1 / float(1 + cost)) * cost * float(datapoint_label)\n",
    "    return -(datapoint_weights * coefficient)\n",
    "\n",
    "def ComputeGradientLogReg(X, y, w):\n",
    "    h = np.matrix([[hyp(w, x)] for x in X])\n",
    "    gd_grad = (X.T * (h-y))\n",
    "    return gd_grad\n",
    "\n",
    "sgd_train_losses, sgd_test_losses, sgd_w = SGD(X, y, X_test, y_test, sgd_w, \n",
    "                                        GradientAtDatapointLogReg, ComputeLossLogReg, \n",
    "                                        n_iters=T, sgd_gamma=.005)\n",
    "gd_train_losses, gd_test_losses, gd_w = GD(X, y, X_test, y_test, gd_w, \n",
    "                                     ComputeGradientLogReg, ComputeLossLogReg, \n",
    "                                     n_iters=T, gd_gamma=.9)\n",
    "\n",
    "plt.semilogy(range(T), sgd_train_losses, 'r-', label=\"sgd train error\")\n",
    "plt.semilogy(range(T), sgd_test_losses, '--r', label=\"sgd test error\")\n",
    "plt.semilogy(range(T), gd_train_losses, 'b-', label=\"gd train error\")\n",
    "plt.semilogy(range(T), gd_test_losses, '--b', label=\"gd test error\")\n",
    "plt.legend(loc=\"upper right\")\n",
    "plt.show(); "
   ]
  },
  {
   "cell_type": "markdown",
   "metadata": {},
   "source": [
    "# Logistic Regression on Mnist (2 digits only)\n",
    "\n",
    "In your ipython source code directory, please run\n",
    "\n",
    "#!/bin/bash\n",
    "\n",
    "mkdir data\n",
    "\n",
    "cd data\n",
    "\n",
    "wget http://yann.lecun.com/exdb/mnist/train-images-idx3-ubyte.gz\n",
    "\n",
    "wget http://yann.lecun.com/exdb/mnist/train-labels-idx1-ubyte.gz\n",
    "\n",
    "wget http://yann.lecun.com/exdb/mnist/t10k-images-idx3-ubyte.gz\n",
    "\n",
    "wget http://yann.lecun.com/exdb/mnist/t10k-labels-idx1-ubyte.gz\n",
    "\n",
    "gunzip *\n",
    "\n"
   ]
  },
  {
   "cell_type": "code",
   "execution_count": 13,
   "metadata": {
    "collapsed": false
   },
   "outputs": [
    {
     "name": "stdout",
     "output_type": "stream",
     "text": [
      "Loading mnist data....\n",
      "((11872, 784), (11872, 1))\n",
      "((1989, 784), (1989, 1))\n",
      "Done loading mnist\n"
     ]
    }
   ],
   "source": [
    "from mnist import MNIST\n",
    "\n",
    "NUM_CLASSES = 10\n",
    "\n",
    "def load_dataset():\n",
    "    print(\"Loading mnist data....\")\n",
    "\n",
    "    mndata = MNIST('./data/')\n",
    "    X_train, labels_train = map(np.array, mndata.load_training())\n",
    "    X_test, labels_test = map(np.array, mndata.load_testing())\n",
    "    X_train = X_train/255.0\n",
    "    X_test = X_test/255.0\n",
    "    X_train = X_train[:,:,np.newaxis]\n",
    "    X_test = X_test[:,:,np.newaxis]\n",
    "    \n",
    "    # Filter out examples that are not 0 or 1\n",
    "    X_train_filtered, labels_train_filtered = [], []\n",
    "    X_test_filtered, labels_test_filtered = [], []\n",
    "    for index, c in enumerate(labels_train):\n",
    "        if c == 0 or c == 9:\n",
    "            X_train_filtered.append([x[0] for x in X_train[index]])\n",
    "            if c == 0:\n",
    "                labels_train_filtered.append([-1])\n",
    "            else:\n",
    "                labels_train_filtered.append([1])\n",
    "    \n",
    "    for index, c in enumerate(labels_test):\n",
    "        if c == 0:\n",
    "            X_test_filtered.append([x[0] for x in X_test[index]])\n",
    "            labels_test_filtered.append([-1])\n",
    "            \n",
    "        if c == 9:\n",
    "            X_test_filtered.append([x[0] for x in X_test[index]])\n",
    "            labels_test_filtered.append([1])\n",
    "            \n",
    "    X_train_filtered = np.mat(X_train_filtered)\n",
    "    labels_train_filtered = np.mat(labels_train_filtered)\n",
    "    X_test_filtered = np.mat(X_test_filtered)\n",
    "    labels_test_filtered = np.mat(labels_test_filtered)\n",
    "    \n",
    "    print(X_train_filtered.shape, labels_train_filtered.shape)\n",
    "    print(X_test_filtered.shape, labels_test_filtered.shape)\n",
    "    print(\"Done loading mnist\")\n",
    "    \n",
    "    return X_train_filtered, labels_train_filtered, X_test_filtered, labels_test_filtered\n",
    "X_mnist, y_mnist, X_test_mnist, y_test_mnist = load_dataset()"
   ]
  },
  {
   "cell_type": "code",
   "execution_count": 14,
   "metadata": {
    "collapsed": false
   },
   "outputs": [
    {
     "data": {
      "image/png": "[encoded data removed]",
      "text/plain": [
       "<matplotlib.figure.Figure at 0x11176b150>"
      ]
     },
     "metadata": {},
     "output_type": "display_data"
    }
   ],
   "source": [
    "# Initial models for both sgd and gd are the same\n",
    "gd_w = np.mat(np.random.rand(784,1))\n",
    "sgd_w = gd_w\n",
    "T = 10\n",
    "\n",
    "sgd_train_losses, sgd_test_losses, sgd_w = SGD(X_mnist, y_mnist, X_test_mnist, y_test_mnist, sgd_w, \n",
    "                                       GradientAtDatapointLogReg, ComputeLossLogReg, \n",
    "                                       n_iters=T, sgd_gamma=.005)\n",
    "gd_train_losses, gd_test_losses, gd_w = GD(X_mnist, y_mnist, X_test_mnist, y_test_mnist, gd_w, \n",
    "                                    ComputeGradientLogReg, ComputeLossLogReg, \n",
    "                                    n_iters=T, gd_gamma=.005)\n",
    "\n",
    "plt.semilogy(range(T), sgd_train_losses, 'r-', label=\"sgd logistic reg. train error\")\n",
    "plt.semilogy(range(T), sgd_test_losses, '--r', label=\"sgd logistic reg. test error\")\n",
    "plt.semilogy(range(T), gd_train_losses, 'b-', label=\"gd logistic reg. train error\")\n",
    "plt.semilogy(range(T), gd_test_losses, '--b', label=\"gd logistic reg. test error\")\n",
    "plt.legend(loc=\"upper right\")\n",
    "plt.show(); "
   ]
  },
  {
   "cell_type": "markdown",
   "metadata": {},
   "source": [
    "# Comparing Neural Nets to Logistic Regression"
   ]
  },
  {
   "cell_type": "code",
   "execution_count": 16,
   "metadata": {
    "collapsed": false
   },
   "outputs": [
    {
     "name": "stdout",
     "output_type": "stream",
     "text": [
      "[(11872, 2)]\n",
      "[(1989, 2)]\n",
      "[(11872, 2)]\n",
      "[(1989, 2)]\n",
      "[(11872, 2)]\n",
      "[(1989, 2)]\n",
      "[(11872, 2)]\n",
      "[(1989, 2)]\n",
      "[(11872, 2)]\n",
      "[(1989, 2)]\n",
      "[(11872, 2)]\n",
      "[(1989, 2)]\n",
      "[(11872, 2)]\n",
      "[(1989, 2)]\n",
      "[(11872, 2)]\n",
      "[(1989, 2)]\n",
      "[(11872, 2)]\n",
      "[(1989, 2)]\n",
      "[(11872, 2)]\n",
      "[(1989, 2)]\n"
     ]
    },
    {
     "data": {
      "image/png": "[encoded data removed]",
      "text/plain": [
       "<matplotlib.figure.Figure at 0x11d0b0690>"
      ]
     },
     "metadata": {},
     "output_type": "display_data"
    }
   ],
   "source": [
    "# pip install scikit-neuralnetwork\n",
    "from sknn.mlp import Classifier, Layer\n",
    "\n",
    "T = 10\n",
    "\n",
    "def TrainAndPredictUsingNN(X, y, X_test, y_test, n_iters=20):\n",
    "    nn = Classifier(\n",
    "    layers=[\n",
    "        Layer(\"Rectifier\", units=2),\n",
    "        Layer(\"Softmax\")],\n",
    "    learning_rate=0.02,\n",
    "    n_iter=1)\n",
    "    train_errors, test_errors = [], []\n",
    "    for i in range(n_iters):\n",
    "        nn.fit(X, y)\n",
    "        predictions_train = nn.predict(X)\n",
    "        predictions_test = nn.predict(X_test)\n",
    "        n_wrong_train = sum([1 if pred != y[index] else 0 for index, pred in enumerate(predictions_train)])\n",
    "        n_wrong_test = sum([1 if pred != y_test[index] else 0 for index, pred in enumerate(predictions_test)])\n",
    "        train_errors.append(n_wrong_train / float(X.shape[0]))\n",
    "        test_errors.append(n_wrong_test / float(X_test.shape[0]))\n",
    "    return train_errors, test_errors \n",
    "\n",
    "def TrainAndPredictUsingLogReg(X, y, X_test, y_test, n_iters=20):\n",
    "    sgd_w = np.mat(np.random.rand(784,1))\n",
    "    train_errors, test_errors = [], []\n",
    "    for i in range(n_iters):\n",
    "        sgd_train_losses, sgd_test_losses, sgd_w = SGD(X_mnist, y_mnist, X_test_mnist, y_test_mnist, sgd_w, \n",
    "                                                       GradientAtDatapointLogReg, ComputeLossLogReg, \n",
    "                                                       n_iters=1, sgd_gamma=.005)\n",
    "        predictions_train = [1 if hyp(sgd_w, x) >= 0 else -1 for x in X]\n",
    "        predictions_test = [1 if hyp(sgd_w, x) >= 0 else -1 for x in X_test]\n",
    "        n_wrong_train = sum([1 if pred != y[index] else 0 for index, pred in enumerate(predictions_train)])\n",
    "        n_wrong_test = sum([1 if pred != y_test[index] else 0 for index, pred in enumerate(predictions_test)])\n",
    "        train_errors.append(n_wrong_train / float(X.shape[0]))\n",
    "        test_errors.append(n_wrong_test / float(X_test.shape[0]))\n",
    "        #print(predictions_train)\n",
    "    return train_errors, test_errors\n",
    "        \n",
    "\n",
    "nn_train_errors, nn_test_errors = TrainAndPredictUsingNN(X_mnist, y_mnist, X_test_mnist, y_test_mnist, n_iters=T)\n",
    "sgd_train_errors, sgd_test_errors = TrainAndPredictUsingLogReg(X_mnist, y_mnist, X_test_mnist, y_test_mnist, n_iters=T)\n",
    "plt.plot(range(T), sgd_train_errors, 'r-', label=\"sgd logistic reg. train num_wrong / total\")\n",
    "plt.plot(range(T), sgd_test_errors, '--r', label=\"sgd logistic reg. test num_wrong / total\")\n",
    "plt.plot(range(T), nn_train_errors, 'b-', label=\"nn train num_wrong / total\")\n",
    "plt.plot(range(T), nn_test_errors, '--b', label=\"nn test num_wrong / total\")\n",
    "plt.legend(loc=\"upper right\")\n",
    "plt.show()"
   ]
  },
  {
   "cell_type": "markdown",
   "metadata": {},
   "source": [
    "# Comparing Neural Nets To Logistic Regression (standalone)"
   ]
  },
  {
   "cell_type": "code",
   "execution_count": 4,
   "metadata": {
    "collapsed": false
   },
   "outputs": [
    {
     "name": "stdout",
     "output_type": "stream",
     "text": [
      "Loading mnist data....\n",
      "((11872, 784), (11872, 1))\n",
      "((1989, 784), (1989, 1))\n",
      "Done loading mnist\n",
      "[36.17071283675388]\n",
      "[0.09956989000771388]\n",
      "[0.11456215018921952]\n",
      "[0.05501649645207395]\n",
      "[0.0711969361196036]\n",
      "[0.07470030665389894]\n",
      "[0.0467186830876964]\n",
      "[0.056375814041852636]\n",
      "[0.04827923255436128]\n",
      "[0.040275727288597726]\n"
     ]
    },
    {
     "data": {
      "image/png": "[encoded data removed]",
      "text/plain": [
       "<matplotlib.figure.Figure at 0x110afd990>"
      ]
     },
     "metadata": {},
     "output_type": "display_data"
    }
   ],
   "source": [
    "import numpy as np\n",
    "from scipy import linalg\n",
    "import matplotlib.pyplot as plt\n",
    "import random\n",
    "\n",
    "%matplotlib inline\n",
    "\n",
    "# SGD function\n",
    "# -------------------------------------------------------\n",
    "#\n",
    "# X - train dataset matrix\n",
    "# y - train label vector\n",
    "# X_test - test dataset matrix\n",
    "# y_test - test label vector\n",
    "# sgd_w - initial weights for model\n",
    "# gradient_at_datapoint(weights, datapoint) - function returning gradient at datapoint given weights\n",
    "# compute_loss(X, y, weights) - computes loss given X dataset, y labels and model weights\n",
    "# n_iters - number of iters to train sgd\n",
    "# sgd_gamma - sgd learning rate\n",
    "#\n",
    "# return - array of train losses and test losses\n",
    "def SGD(X, y, X_test, y_test, sgd_w, gradient_at_datapoint, compute_loss, n_iters=100, sgd_gamma=.001):\n",
    "    n, d = X.shape\n",
    "    test_losses, train_losses = [], []\n",
    "    sgd_datapoint_order = list(range(0, n))\n",
    "    for iteration in range(n_iters):\n",
    "        np.random.shuffle(sgd_datapoint_order)\n",
    "        train_loss, test_loss = compute_loss(X, y, sgd_w), compute_loss(X_test, y_test, sgd_w)\n",
    "        train_losses.append(train_loss)\n",
    "        test_losses.append(test_loss)\n",
    "        for datapoint_index in sgd_datapoint_order:\n",
    "            gradient_at_dp = gradient_at_datapoint(sgd_w, X[datapoint_index], y[datapoint_index])\n",
    "            sgd_w = sgd_w - sgd_gamma * gradient_at_dp.T\n",
    "    return train_losses, test_losses, sgd_w\n",
    "        \n",
    "#################################\n",
    "# LOGISTIC REGRESSION METHODS ###\n",
    "#################################\n",
    "def hyp(theta, x):\n",
    "    return x.dot(theta)\n",
    "\n",
    "def ComputeLossLogReg(X, y, theta):\n",
    "    loss = 0\n",
    "    for i, x in enumerate(X):\n",
    "        loss += np.log(1 + np.exp(-float(y[i]) * x.dot(theta)))\n",
    "    return float(loss / X.shape[0])\n",
    "\n",
    "def GradientAtDatapointLogReg(weights, datapoint_weights, datapoint_label):\n",
    "    cost = float(np.exp(-float(datapoint_label) * datapoint_weights.dot(weights)))\n",
    "    coefficient = float(1 / float(1 + cost)) * cost * float(datapoint_label)\n",
    "    return -(datapoint_weights * coefficient)\n",
    "\n",
    "#########################\n",
    "# MNIST LOADING METHODS #\n",
    "#########################\n",
    "from mnist import MNIST\n",
    "\n",
    "NUM_CLASSES = 10\n",
    "\n",
    "def load_dataset():\n",
    "    print(\"Loading mnist data....\")\n",
    "\n",
    "    mndata = MNIST('./data/')\n",
    "    X_train, labels_train = map(np.array, mndata.load_training())\n",
    "    X_test, labels_test = map(np.array, mndata.load_testing())\n",
    "    X_train = X_train/255.0\n",
    "    X_test = X_test/255.0\n",
    "    X_train = X_train[:,:,np.newaxis]\n",
    "    X_test = X_test[:,:,np.newaxis]\n",
    "    \n",
    "    # Filter out examples that are not 0 or 1\n",
    "    X_train_filtered, labels_train_filtered = [], []\n",
    "    X_test_filtered, labels_test_filtered = [], []\n",
    "    for index, c in enumerate(labels_train):\n",
    "        if c == 0 or c == 9:\n",
    "            X_train_filtered.append([x[0] for x in X_train[index]])\n",
    "            if c == 0:\n",
    "                labels_train_filtered.append([-1])\n",
    "            else:\n",
    "                labels_train_filtered.append([1])\n",
    "    \n",
    "    for index, c in enumerate(labels_test):\n",
    "        if c == 0:\n",
    "            X_test_filtered.append([x[0] for x in X_test[index]])\n",
    "            labels_test_filtered.append([-1])\n",
    "            \n",
    "        if c == 9:\n",
    "            X_test_filtered.append([x[0] for x in X_test[index]])\n",
    "            labels_test_filtered.append([1])\n",
    "            \n",
    "    X_train_filtered = np.mat(X_train_filtered)\n",
    "    labels_train_filtered = np.mat(labels_train_filtered)\n",
    "    X_test_filtered = np.mat(X_test_filtered)\n",
    "    labels_test_filtered = np.mat(labels_test_filtered)\n",
    "    \n",
    "    print(X_train_filtered.shape, labels_train_filtered.shape)\n",
    "    print(X_test_filtered.shape, labels_test_filtered.shape)\n",
    "    print(\"Done loading mnist\")\n",
    "    \n",
    "    return X_train_filtered, labels_train_filtered, X_test_filtered, labels_test_filtered\n",
    "\n",
    "##################\n",
    "# NN COMPARISON ##\n",
    "##################\n",
    "# pip install scikit-neuralnetwork\n",
    "from sknn.mlp import Classifier, Layer\n",
    "\n",
    "T = 10\n",
    "\n",
    "def TrainAndPredictUsingNN(X, y, X_test, y_test, n_iters=20):\n",
    "    nn = Classifier(\n",
    "    layers=[\n",
    "        Layer(\"Rectifier\", units=2),\n",
    "        Layer(\"Softmax\")],\n",
    "    learning_rate=0.02,\n",
    "    n_iter=1)\n",
    "    train_errors, test_errors = [], []\n",
    "    for i in range(n_iters):\n",
    "        nn.fit(X, y)\n",
    "        predictions_train = nn.predict(X)\n",
    "        predictions_test = nn.predict(X_test)\n",
    "        n_wrong_train = sum([1 if pred != y[index] else 0 for index, pred in enumerate(predictions_train)])\n",
    "        n_wrong_test = sum([1 if pred != y_test[index] else 0 for index, pred in enumerate(predictions_test)])\n",
    "        train_errors.append(n_wrong_train / float(X.shape[0]))\n",
    "        test_errors.append(n_wrong_test / float(X_test.shape[0]))\n",
    "    return train_errors, test_errors \n",
    "\n",
    "def TrainAndPredictUsingLogReg(X, y, X_test, y_test, n_iters=20):\n",
    "    sgd_w = np.mat(np.random.rand(784,1))\n",
    "    train_errors, test_errors = [], []\n",
    "    for i in range(n_iters):\n",
    "        sgd_train_losses, sgd_test_losses, sgd_w = SGD(X_mnist, y_mnist, X_test_mnist, y_test_mnist, sgd_w, \n",
    "                                                       GradientAtDatapointLogReg, ComputeLossLogReg, \n",
    "                                                       n_iters=1, sgd_gamma=.5)\n",
    "        print(\"Train loss:\", sgd_train_losses)\n",
    "        predictions_train = [1 if hyp(sgd_w, x) >= 0 else -1 for x in X]\n",
    "        predictions_test = [1 if hyp(sgd_w, x) >= 0 else -1 for x in X_test]\n",
    "        n_wrong_train = sum([1 if pred != y[index] else 0 for index, pred in enumerate(predictions_train)])\n",
    "        n_wrong_test = sum([1 if pred != y_test[index] else 0 for index, pred in enumerate(predictions_test)])\n",
    "        train_errors.append(n_wrong_train / float(X.shape[0]))\n",
    "        test_errors.append(n_wrong_test / float(X_test.shape[0]))\n",
    "        #print(predictions_train)\n",
    "    return train_errors, test_errors\n",
    "        \n",
    "X_mnist, y_mnist, X_test_mnist, y_test_mnist = load_dataset()\n",
    "nn_train_errors, nn_test_errors = TrainAndPredictUsingNN(X_mnist, y_mnist, X_test_mnist, y_test_mnist, n_iters=T)\n",
    "sgd_train_errors, sgd_test_errors = TrainAndPredictUsingLogReg(X_mnist, y_mnist, X_test_mnist, y_test_mnist, n_iters=T)\n",
    "plt.plot(range(T), sgd_train_errors, 'r-', label=\"sgd logistic reg. train num_wrong / total\")\n",
    "plt.plot(range(T), sgd_test_errors, '--r', label=\"sgd logistic reg. test num_wrong / total\")\n",
    "plt.plot(range(T), nn_train_errors, 'b-', label=\"nn train num_wrong / total\")\n",
    "plt.plot(range(T), nn_test_errors, '--b', label=\"nn test num_wrong / total\")\n",
    "plt.legend(loc=\"upper right\")\n",
    "plt.show()"
   ]
  },
  {
   "cell_type": "code",
   "execution_count": null,
   "metadata": {
    "collapsed": true
   },
   "outputs": [],
   "source": []
  }
 ],
 "metadata": {
  "anaconda-cloud": {},
  "kernelspec": {
   "display_name": "Python 2",
   "language": "python",
   "name": "python2"
  },
  "language_info": {
   "codemirror_mode": {
    "name": "ipython",
    "version": 2
   },
   "file_extension": ".py",
   "mimetype": "text/x-python",
   "name": "python",
   "nbconvert_exporter": "python",
   "pygments_lexer": "ipython2",
   "version": "2.7.9"
  },
  "nbpresent": {
   "slides": {
    "0bef0378-c775-4696-b0f4-b9e13f1170a4": {
     "id": "0bef0378-c775-4696-b0f4-b9e13f1170a4",
     "prev": "69a38bf6-a727-40ec-94a0-bf462b7658bd",
     "regions": {
      "7f4aebed-63c7-4070-be3d-23178d0e2913": {
       "attrs": {
        "height": 0.8,
        "width": 0.8,
        "x": 0.1,
        "y": 0.1
       },
       "content": {
        "cell": "8b982f23-f3b0-4c2b-8fcc-e9c22378e38a",
        "part": "whole"
       },
       "id": "7f4aebed-63c7-4070-be3d-23178d0e2913"
      }
     }
    },
    "69a38bf6-a727-40ec-94a0-bf462b7658bd": {
     "id": "69a38bf6-a727-40ec-94a0-bf462b7658bd",
     "prev": "fc0f94eb-70db-43b2-b602-c483c0fded73",
     "regions": {
      "fd9c10a5-5a8e-4f65-b164-c4460b51232d": {
       "attrs": {
        "height": 0.8,
        "width": 0.8,
        "x": 0.1,
        "y": 0.1
       },
       "content": {
        "cell": "2e89c3c0-c47c-440f-af40-2cd1814aeaab",
        "part": "whole"
       },
       "id": "fd9c10a5-5a8e-4f65-b164-c4460b51232d"
      }
     }
    },
    "fc0f94eb-70db-43b2-b602-c483c0fded73": {
     "id": "fc0f94eb-70db-43b2-b602-c483c0fded73",
     "prev": null,
     "regions": {
      "9343375d-d7cd-404b-97a7-54b924279fc1": {
       "attrs": {
        "height": 0.8,
        "width": 0.8,
        "x": 0.1,
        "y": 0.1
       },
       "content": {
        "cell": "3f8b4e41-176d-4e4e-ac95-29e4c6856f0e",
        "part": "whole"
       },
       "id": "9343375d-d7cd-404b-97a7-54b924279fc1"
      }
     }
    }
   },
   "themes": {
    "default": "2663ca52-3d34-49f3-9dd4-6a5f3873953e",
    "theme": {}
   }
  }
 },
 "nbformat": 4,
 "nbformat_minor": 0
}
